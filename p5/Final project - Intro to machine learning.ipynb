{
 "cells": [
  {
   "cell_type": "code",
   "execution_count": 1,
   "metadata": {
    "collapsed": true
   },
   "outputs": [],
   "source": [
    "import sys\n",
    "import pickle\n",
    "import numpy as np\n",
    "import pandas as pd\n",
    "import matplotlib.pyplot as plt\n",
    "import seaborn as sns\n",
    "sys.path.append(\"../tools/\")\n",
    "\n",
    "# suppress scientific notations\n",
    "pd.set_option('display.float_format', lambda x: '%.2f' % x)\n",
    "\n",
    "# ignore warnings\n",
    "import warnings\n",
    "warnings.filterwarnings(\"ignore\")"
   ]
  },
  {
   "cell_type": "code",
   "execution_count": 2,
   "metadata": {},
   "outputs": [
    {
     "name": "stderr",
     "output_type": "stream",
     "text": [
      "/Users/rianne/anaconda3/envs/python2/lib/python2.7/site-packages/sklearn/cross_validation.py:41: DeprecationWarning: This module was deprecated in version 0.18 in favor of the model_selection module into which all the refactored classes and functions are moved. Also note that the interface of the new CV iterators are different from that of this module. This module will be removed in 0.20.\n",
      "  \"This module will be removed in 0.20.\", DeprecationWarning)\n"
     ]
    }
   ],
   "source": [
    "from feature_format import featureFormat, targetFeatureSplit\n",
    "from tester import dump_classifier_and_data"
   ]
  },
  {
   "cell_type": "markdown",
   "metadata": {},
   "source": [
    "## Task 1: Select what features you'll use"
   ]
  },
  {
   "cell_type": "code",
   "execution_count": 3,
   "metadata": {
    "collapsed": true
   },
   "outputs": [],
   "source": [
    "features_list = ['poi', 'salary', 'deferral_payments', 'total_payments',\n",
    "'loan_advances', 'bonus', 'restricted_stock_deferred', 'deferred_income', \n",
    "'total_stock_value', 'expenses', 'exercised_stock_options', 'other', \n",
    "'long_term_incentive', 'restricted_stock', 'director_fees', 'to_messages',\n",
    "'from_poi_to_this_person', 'from_messages', 'from_this_person_to_poi', \n",
    "'shared_receipt_with_poi']\n",
    "\n",
    "selected_features = ['poi', 'salary', 'total_payments', 'bonus', \n",
    "'total_stock_value', 'exercised_stock_options', 'long_term_incentive', \n",
    "'restricted_stock', 'to_messages', 'shared_receipt_with_poi']"
   ]
  },
  {
   "cell_type": "code",
   "execution_count": 4,
   "metadata": {
    "collapsed": true
   },
   "outputs": [],
   "source": [
    "# Load the dictionary containing the dataset\n",
    "with open(\"final_project_dataset.pkl\", \"r\") as data_file:\n",
    "    data_dict = pickle.load(data_file)"
   ]
  },
  {
   "cell_type": "code",
   "execution_count": 5,
   "metadata": {
    "collapsed": true
   },
   "outputs": [],
   "source": [
    "# create pandas dataframe from dictionary and \n",
    "# transpose the axes for easier manipulation \n",
    "df = pd.DataFrame.from_dict(data_dict).transpose()\n",
    "\n",
    "# replace string 'NaN' with nan value\n",
    "df = df.replace('NaN', np.nan)"
   ]
  },
  {
   "cell_type": "code",
   "execution_count": 6,
   "metadata": {
    "collapsed": true
   },
   "outputs": [],
   "source": [
    "# compute the missing values per feature\n",
    "missing = df.isnull().sum()\n",
    "\n",
    "# transform to dataframe\n",
    "missing = pd.DataFrame(missing, columns = ['total'])\n",
    "\n",
    "# add column for # of missing values for pois & non-pois\n",
    "missing['poi'] = df[df.poi == True].isnull().sum()\n",
    "missing['non_poi'] = df[df.poi == False].isnull().sum()\n",
    "\n",
    "# calculate percentage of missing values\n",
    "missing['%_missing_poi'] = (missing['poi'] / 18) * 100\n",
    "missing['%_missing_non_poi'] = (missing['non_poi'] / 130) * 100\n",
    "\n",
    "# sorting dataframe by # of total missing values \n",
    "missing.sort_values(by ='total', ascending = False, inplace = True)"
   ]
  },
  {
   "cell_type": "code",
   "execution_count": 7,
   "metadata": {},
   "outputs": [
    {
     "data": {
      "text/html": [
       "<div>\n",
       "<table border=\"1\" class=\"dataframe\">\n",
       "  <thead>\n",
       "    <tr style=\"text-align: right;\">\n",
       "      <th></th>\n",
       "      <th>total</th>\n",
       "      <th>poi</th>\n",
       "      <th>non_poi</th>\n",
       "      <th>%_missing_poi</th>\n",
       "      <th>%_missing_non_poi</th>\n",
       "    </tr>\n",
       "  </thead>\n",
       "  <tbody>\n",
       "    <tr>\n",
       "      <th>from_messages</th>\n",
       "      <td>60</td>\n",
       "      <td>4</td>\n",
       "      <td>56</td>\n",
       "      <td>22.22</td>\n",
       "      <td>43.08</td>\n",
       "    </tr>\n",
       "    <tr>\n",
       "      <th>from_poi_to_this_person</th>\n",
       "      <td>60</td>\n",
       "      <td>4</td>\n",
       "      <td>56</td>\n",
       "      <td>22.22</td>\n",
       "      <td>43.08</td>\n",
       "    </tr>\n",
       "    <tr>\n",
       "      <th>from_this_person_to_poi</th>\n",
       "      <td>60</td>\n",
       "      <td>4</td>\n",
       "      <td>56</td>\n",
       "      <td>22.22</td>\n",
       "      <td>43.08</td>\n",
       "    </tr>\n",
       "    <tr>\n",
       "      <th>shared_receipt_with_poi</th>\n",
       "      <td>60</td>\n",
       "      <td>4</td>\n",
       "      <td>56</td>\n",
       "      <td>22.22</td>\n",
       "      <td>43.08</td>\n",
       "    </tr>\n",
       "    <tr>\n",
       "      <th>to_messages</th>\n",
       "      <td>60</td>\n",
       "      <td>4</td>\n",
       "      <td>56</td>\n",
       "      <td>22.22</td>\n",
       "      <td>43.08</td>\n",
       "    </tr>\n",
       "    <tr>\n",
       "      <th>email_address</th>\n",
       "      <td>35</td>\n",
       "      <td>0</td>\n",
       "      <td>35</td>\n",
       "      <td>0.00</td>\n",
       "      <td>26.92</td>\n",
       "    </tr>\n",
       "  </tbody>\n",
       "</table>\n",
       "</div>"
      ],
      "text/plain": [
       "                         total  poi  non_poi  %_missing_poi  %_missing_non_poi\n",
       "from_messages               60    4       56          22.22              43.08\n",
       "from_poi_to_this_person     60    4       56          22.22              43.08\n",
       "from_this_person_to_poi     60    4       56          22.22              43.08\n",
       "shared_receipt_with_poi     60    4       56          22.22              43.08\n",
       "to_messages                 60    4       56          22.22              43.08\n",
       "email_address               35    0       35           0.00              26.92"
      ]
     },
     "execution_count": 7,
     "metadata": {},
     "output_type": "execute_result"
    }
   ],
   "source": [
    "# missing email features\n",
    "missing.ix[[7,8,9,10,11,17],]"
   ]
  },
  {
   "cell_type": "code",
   "execution_count": 8,
   "metadata": {},
   "outputs": [
    {
     "data": {
      "text/html": [
       "<div>\n",
       "<table border=\"1\" class=\"dataframe\">\n",
       "  <thead>\n",
       "    <tr style=\"text-align: right;\">\n",
       "      <th></th>\n",
       "      <th>total</th>\n",
       "      <th>poi</th>\n",
       "      <th>non_poi</th>\n",
       "      <th>%_missing_poi</th>\n",
       "      <th>%_missing_non_poi</th>\n",
       "    </tr>\n",
       "  </thead>\n",
       "  <tbody>\n",
       "    <tr>\n",
       "      <th>loan_advances</th>\n",
       "      <td>142</td>\n",
       "      <td>17</td>\n",
       "      <td>125</td>\n",
       "      <td>94.44</td>\n",
       "      <td>96.15</td>\n",
       "    </tr>\n",
       "    <tr>\n",
       "      <th>director_fees</th>\n",
       "      <td>129</td>\n",
       "      <td>18</td>\n",
       "      <td>111</td>\n",
       "      <td>100.00</td>\n",
       "      <td>85.38</td>\n",
       "    </tr>\n",
       "    <tr>\n",
       "      <th>restricted_stock_deferred</th>\n",
       "      <td>128</td>\n",
       "      <td>18</td>\n",
       "      <td>110</td>\n",
       "      <td>100.00</td>\n",
       "      <td>84.62</td>\n",
       "    </tr>\n",
       "    <tr>\n",
       "      <th>deferral_payments</th>\n",
       "      <td>107</td>\n",
       "      <td>13</td>\n",
       "      <td>94</td>\n",
       "      <td>72.22</td>\n",
       "      <td>72.31</td>\n",
       "    </tr>\n",
       "    <tr>\n",
       "      <th>deferred_income</th>\n",
       "      <td>97</td>\n",
       "      <td>7</td>\n",
       "      <td>90</td>\n",
       "      <td>38.89</td>\n",
       "      <td>69.23</td>\n",
       "    </tr>\n",
       "    <tr>\n",
       "      <th>long_term_incentive</th>\n",
       "      <td>80</td>\n",
       "      <td>6</td>\n",
       "      <td>74</td>\n",
       "      <td>33.33</td>\n",
       "      <td>56.92</td>\n",
       "    </tr>\n",
       "    <tr>\n",
       "      <th>bonus</th>\n",
       "      <td>64</td>\n",
       "      <td>2</td>\n",
       "      <td>62</td>\n",
       "      <td>11.11</td>\n",
       "      <td>47.69</td>\n",
       "    </tr>\n",
       "    <tr>\n",
       "      <th>other</th>\n",
       "      <td>53</td>\n",
       "      <td>0</td>\n",
       "      <td>53</td>\n",
       "      <td>0.00</td>\n",
       "      <td>40.77</td>\n",
       "    </tr>\n",
       "    <tr>\n",
       "      <th>expenses</th>\n",
       "      <td>51</td>\n",
       "      <td>0</td>\n",
       "      <td>51</td>\n",
       "      <td>0.00</td>\n",
       "      <td>39.23</td>\n",
       "    </tr>\n",
       "    <tr>\n",
       "      <th>salary</th>\n",
       "      <td>51</td>\n",
       "      <td>1</td>\n",
       "      <td>50</td>\n",
       "      <td>5.56</td>\n",
       "      <td>38.46</td>\n",
       "    </tr>\n",
       "    <tr>\n",
       "      <th>exercised_stock_options</th>\n",
       "      <td>44</td>\n",
       "      <td>6</td>\n",
       "      <td>38</td>\n",
       "      <td>33.33</td>\n",
       "      <td>29.23</td>\n",
       "    </tr>\n",
       "    <tr>\n",
       "      <th>restricted_stock</th>\n",
       "      <td>36</td>\n",
       "      <td>1</td>\n",
       "      <td>35</td>\n",
       "      <td>5.56</td>\n",
       "      <td>26.92</td>\n",
       "    </tr>\n",
       "    <tr>\n",
       "      <th>total_payments</th>\n",
       "      <td>21</td>\n",
       "      <td>0</td>\n",
       "      <td>21</td>\n",
       "      <td>0.00</td>\n",
       "      <td>16.15</td>\n",
       "    </tr>\n",
       "    <tr>\n",
       "      <th>total_stock_value</th>\n",
       "      <td>20</td>\n",
       "      <td>0</td>\n",
       "      <td>20</td>\n",
       "      <td>0.00</td>\n",
       "      <td>15.38</td>\n",
       "    </tr>\n",
       "  </tbody>\n",
       "</table>\n",
       "</div>"
      ],
      "text/plain": [
       "                           total  poi  non_poi  %_missing_poi  \\\n",
       "loan_advances                142   17      125          94.44   \n",
       "director_fees                129   18      111         100.00   \n",
       "restricted_stock_deferred    128   18      110         100.00   \n",
       "deferral_payments            107   13       94          72.22   \n",
       "deferred_income               97    7       90          38.89   \n",
       "long_term_incentive           80    6       74          33.33   \n",
       "bonus                         64    2       62          11.11   \n",
       "other                         53    0       53           0.00   \n",
       "expenses                      51    0       51           0.00   \n",
       "salary                        51    1       50           5.56   \n",
       "exercised_stock_options       44    6       38          33.33   \n",
       "restricted_stock              36    1       35           5.56   \n",
       "total_payments                21    0       21           0.00   \n",
       "total_stock_value             20    0       20           0.00   \n",
       "\n",
       "                           %_missing_non_poi  \n",
       "loan_advances                          96.15  \n",
       "director_fees                          85.38  \n",
       "restricted_stock_deferred              84.62  \n",
       "deferral_payments                      72.31  \n",
       "deferred_income                        69.23  \n",
       "long_term_incentive                    56.92  \n",
       "bonus                                  47.69  \n",
       "other                                  40.77  \n",
       "expenses                               39.23  \n",
       "salary                                 38.46  \n",
       "exercised_stock_options                29.23  \n",
       "restricted_stock                       26.92  \n",
       "total_payments                         16.15  \n",
       "total_stock_value                      15.38  "
      ]
     },
     "execution_count": 8,
     "metadata": {},
     "output_type": "execute_result"
    }
   ],
   "source": [
    "# missing financial features\n",
    "missing.ix[[0,1,2,3,4,5,6,12,13,14,15,16,18,19],]\n",
    "\n",
    "# export table to csv for report\n",
    "#missing.to_csv('missing_all.csv')"
   ]
  },
  {
   "cell_type": "code",
   "execution_count": 9,
   "metadata": {},
   "outputs": [
    {
     "name": "stdout",
     "output_type": "stream",
     "text": [
      "LOCKHART EUGENE E    20\n",
      "GRAMM WENDY L        18\n",
      "WROBEL BRUCE         18\n",
      "dtype: int64\n"
     ]
    }
   ],
   "source": [
    "# find missing values per row\n",
    "empty_rows = df.isnull().sum(axis=1)\n",
    "empty_rows.sort(ascending = False)\n",
    "print empty_rows.head(3)\n",
    "\n",
    "# drop LOCKHART for missing all values (except POI labeling)\n",
    "df = df.drop(['LOCKHART EUGENE E'])"
   ]
  },
  {
   "cell_type": "code",
   "execution_count": 10,
   "metadata": {
    "collapsed": true
   },
   "outputs": [],
   "source": [
    "# remove email address column\n",
    "df = df.drop('email_address', axis = 1)"
   ]
  },
  {
   "cell_type": "markdown",
   "metadata": {},
   "source": [
    "## Task 2: Remove outliers"
   ]
  },
  {
   "cell_type": "code",
   "execution_count": 11,
   "metadata": {},
   "outputs": [],
   "source": [
    "# plot email features for POIs and non-POIs (1)\n",
    "df[['poi', 'to_messages', 'from_poi_to_this_person', 'from_messages', 'from_this_person_to_poi',\n",
    "    'shared_receipt_with_poi']].boxplot(figsize=(15,10), sym='b.', by = 'poi')\n",
    "plt.ticklabel_format(style='plain', axis='y')\n",
    "plt.xticks(rotation = 'vertical')\n",
    "plt.show()\n",
    "#plt.savefig('emails.png')"
   ]
  },
  {
   "cell_type": "code",
   "execution_count": 12,
   "metadata": {},
   "outputs": [],
   "source": [
    "# plot financial features for POIs and non-POIs (2)\n",
    "df[['poi', 'salary', 'total_payments', 'loan_advances', 'bonus', 'total_stock_value', \n",
    "    'expenses', 'exercised_stock_options', 'other', 'long_term_incentive', 'restricted_stock', \n",
    "    'director_fees']].boxplot(figsize=(15,15), sym='b.', by = 'poi')\n",
    "plt.ticklabel_format(style='plain', axis='y')\n",
    "plt.xticks(rotation = 'vertical')\n",
    "plt.show()\n",
    "#plt.savefig('financials.png')"
   ]
  },
  {
   "cell_type": "code",
   "execution_count": 13,
   "metadata": {},
   "outputs": [],
   "source": [
    "# drop TOTAL and THE TRAVEL AGENCY IN THE PARK rows \n",
    "df = df.drop(['TOTAL','THE TRAVEL AGENCY IN THE PARK'])"
   ]
  },
  {
   "cell_type": "code",
   "execution_count": 14,
   "metadata": {},
   "outputs": [
    {
     "name": "stdout",
     "output_type": "stream",
     "text": [
      "['BELFER ROBERT', 'BHATNAGAR SANJAY']\n",
      "Number of employees 143\n"
     ]
    }
   ],
   "source": [
    "# replace missing values with 0 \n",
    "df = df.fillna(0)\n",
    "\n",
    "# calculate the total payments\n",
    "df['total_p'] = df[['bonus', 'deferral_payments', 'deferred_income', \n",
    "\t\t\t\t\t'director_fees', 'expenses', 'loan_advances', \n",
    "                    'long_term_incentive', 'other', 'salary']].sum(axis = 1)\n",
    "\n",
    "# calculate difference between own calculation and column total_payments\n",
    "df['diff'] = df['total_p'] - df['total_payments']\n",
    "\n",
    "# show names for who the calculated and supplied total payments are not equal\n",
    "names = df.index[df['diff'] != 0].tolist()\n",
    "print names\n",
    "\n",
    "# remove created columns from df\n",
    "df = df.drop(['total_p', 'diff'], axis = 1)\n",
    "\n",
    "# drop two employees (BELFER and BHATNAGAR) with incorrect values\n",
    "df = df.drop(names)\n",
    "\n",
    "# create new_df with the correct values from enron61702insiderpay.pdf\n",
    "values = [[0, 0, 0, 0, 15456290, 137864, 29, 0, 1, 0, 0, 0, False, 2604490, \n",
    "\t\t  -2604490, 0, 463, 523, 137864, 15456290], \n",
    "          [0, 0, -102500, 102500, 0, 3285, 0, 0, 0, 0, 0, 0, False, 44093, \n",
    "          -44093, 0, 0, 0, 3285, 0]]\n",
    "\n",
    "new_df = pd.DataFrame(values, columns = list(df), \n",
    "\tindex = ['BHATNAGAR SANJAY', 'BELFER ROBERT'])\n",
    "\n",
    "# append new_df to df \n",
    "df = df.append(new_df)\n",
    "\n",
    "# sort index so the names are sorted alfabetically again\n",
    "df = df.sort_index(axis = 0)\n",
    "\n",
    "# find number of employees\n",
    "print \"Number of employees\", len(df)"
   ]
  },
  {
   "cell_type": "markdown",
   "metadata": {},
   "source": [
    "## Task 3: Create new feature(s) "
   ]
  },
  {
   "cell_type": "code",
   "execution_count": 15,
   "metadata": {
    "collapsed": true
   },
   "outputs": [],
   "source": [
    "# create bonus to salary ratio\n",
    "df['bonus_salary_ratio'] = df['bonus'] / df['salary']\n",
    "\n",
    "# create bonus to total payments ratio\n",
    "df['bonus_tp_ratio'] = df['bonus'] / df['total_payments']\n",
    "\n",
    "# replace nan values with 0 \n",
    "df = df.fillna(0)\n",
    "\n",
    "# select features \n",
    "def select_features(list_features, new):\n",
    "\tfeatures = list_features\n",
    "\tif new == True:\n",
    "\t\tfeatures += ['bonus_tp_ratio','bonus_salary_ratio']\n",
    "\treturn features \n",
    "\n",
    "features = select_features(selected_features, True)\n",
    "\n",
    "# create dataframe for selected features\n",
    "df = df.ix[:, features] \n",
    "\n",
    "# create new features list\n",
    "new_features_list = list(df)\n",
    "\n",
    "# store dictionary to my_dataset\n",
    "my_dataset = df.to_dict('index')\n",
    "\n",
    "# extract features and labels from dataset for testing  \n",
    "data = featureFormat(my_dataset, new_features_list, sort_keys = True) \n",
    "labels, features = targetFeatureSplit(data)"
   ]
  },
  {
   "cell_type": "markdown",
   "metadata": {},
   "source": [
    "## Task 4: Try a variety of classifiers"
   ]
  },
  {
   "cell_type": "code",
   "execution_count": 16,
   "metadata": {
    "collapsed": true,
    "scrolled": false
   },
   "outputs": [],
   "source": [
    "# import packages\n",
    "import sklearn\n",
    "from sklearn.feature_selection import SelectKBest\n",
    "from sklearn.naive_bayes import GaussianNB \n",
    "from sklearn.tree import DecisionTreeClassifier\n",
    "from sklearn.neighbors import KNeighborsClassifier\n",
    "from sklearn.preprocessing import StandardScaler\n",
    "from sklearn.pipeline import Pipeline\n",
    "from sklearn import model_selection\n",
    "from sklearn.model_selection import StratifiedShuffleSplit, GridSearchCV\n",
    "from sklearn import cross_validation\n",
    "from sklearn.cross_validation import train_test_split\n",
    "\n",
    "# create scaler\n",
    "scaler = StandardScaler()\n",
    "\n",
    "# create feature selection method\n",
    "select = SelectKBest()\n",
    "\n",
    "# create different classifiers\n",
    "dt = DecisionTreeClassifier()\n",
    "gnb = GaussianNB()\n",
    "knn = KNeighborsClassifier()\n",
    "\n",
    "# create pipeline for gnb & dt\n",
    "pipeline = Pipeline([('feature_selection', select), ('classifier', dt)])\n",
    "\n",
    "# create pipeline for knn\n",
    "#pipeline = Pipeline([('scaler', scaler), ('feature_selection', select), ('classifier', kn)])\n",
    "\n",
    "# create parameters to explore in grid search\n",
    "parameters = dict(\n",
    "\tfeature_selection__k = range(2,10),\n",
    "    # dt\n",
    "    classifier__splitter = ['best', 'random'],\n",
    "    classifier__criterion = ['entropy', 'gini'], \n",
    "    classifier__min_samples_split = [4,6],\n",
    "    classifier__class_weight = ['balanced', None],\n",
    "    classifier__min_samples_leaf = [12,15],\n",
    "    # knn\n",
    "    #classifier__n_neighbors = [2,3,4,5],\n",
    "    #classifier__weights = ['uniform', 'distance'],\n",
    "    #classifier__algorithm = ['auto', 'ball_tree', 'kd_tree', 'brute'],\n",
    "    #classifier__p = [1,2,3]\n",
    "    classifier__random_state = [42]\n",
    "    )"
   ]
  },
  {
   "cell_type": "markdown",
   "metadata": {},
   "source": [
    "## Task 5: Tune your classifier to achieve better than .3 p & r scores"
   ]
  },
  {
   "cell_type": "code",
   "execution_count": 17,
   "metadata": {},
   "outputs": [
    {
     "name": "stdout",
     "output_type": "stream",
     "text": [
      "Best model found by grid search:\n",
      "Pipeline(memory=None,\n",
      "     steps=[('feature_selection', SelectKBest(k=9, score_func=<function f_classif at 0x11e9fb8c0>)), ('classifier', DecisionTreeClassifier(class_weight='balanced', criterion='entropy',\n",
      "            max_depth=None, max_features=None, max_leaf_nodes=None,\n",
      "            min_impurity_decrease=0.0, min_impurity_split=None,\n",
      "            min_samples_leaf=15, min_samples_split=4,\n",
      "            min_weight_fraction_leaf=0.0, presort=False, random_state=42,\n",
      "            splitter='random'))])\n",
      "\n",
      "\n",
      "             precision    recall  f1-score   support\n",
      "\n",
      "    non-POI       0.97      0.76      0.85        38\n",
      "        POI       0.31      0.80      0.44         5\n",
      "\n",
      "avg / total       0.89      0.77      0.81        43\n",
      "\n"
     ]
    }
   ],
   "source": [
    "# import package\n",
    "from sklearn.metrics import classification_report\n",
    "\n",
    "# create training and test data \n",
    "features_train, features_test, labels_train, labels_test = \\\n",
    "train_test_split(features, labels, test_size = 0.3, random_state = 42)\n",
    "\n",
    "# create stratified shuffle split \n",
    "sss = StratifiedShuffleSplit(n_splits=100, test_size = 0.3, random_state = 42)\n",
    "\n",
    "# create grid search\n",
    "gs = GridSearchCV(pipeline, param_grid = parameters, cv = sss, scoring = 'f1', n_jobs = 10)\n",
    "\n",
    "# fit to total dataset due to size and imbalances\n",
    "gs.fit(features,labels)\n",
    "\n",
    "# find parameter values\n",
    "gs.best_params_\n",
    "\n",
    "# assign best estimator model to clf\n",
    "clf = gs.best_estimator_\n",
    "print 'Best model found by grid search:'\n",
    "print clf\n",
    "print '\\n'\n",
    "\n",
    "# create classification report for best estimator model\n",
    "predictions = gs.predict(features_test)\n",
    "names = ['non-POI', 'POI']\n",
    "report = classification_report(labels_test, predictions, target_names = names)\n",
    "print report"
   ]
  },
  {
   "cell_type": "code",
   "execution_count": 18,
   "metadata": {},
   "outputs": [
    {
     "name": "stdout",
     "output_type": "stream",
     "text": [
      "Feature Ranking: (importance - score)\n",
      "salary (0.388 - 18.29)\n",
      "exercised_stock_options (0.307 - 22.349)\n",
      "bonus (0.305 - 20.792)\n",
      "bonus_salary_ratio (0.0 - 10.784)\n",
      "bonus_tp_ratio (0.0 - 20.716)\n",
      "restricted_stock (0.0 - 8.825)\n",
      "long_term_incentive (0.0 - 9.922)\n",
      "total_stock_value (0.0 - 22.511)\n",
      "total_payments (0.0 - 9.284)\n"
     ]
    }
   ],
   "source": [
    "# find indices of the features that are selected\n",
    "list_feat = clf.named_steps['feature_selection'].get_support(indices = True)\n",
    "    \n",
    "# get scores for features\n",
    "scores = clf.named_steps['feature_selection'].scores_\n",
    "\n",
    "# get importances for features\n",
    "importances = clf.named_steps['classifier'].feature_importances_\n",
    "\n",
    "# sort indices with highest importance first\n",
    "indices = np.argsort(importances)[::-1]\n",
    "\n",
    "# create list with names & scores of selected features\n",
    "selected_features_list = ['poi']\n",
    "scores_list = []\n",
    "for i in list_feat:\n",
    "\tselected_features_list.append(new_features_list[i + 1])\n",
    "\tscores_list.append(scores[i])\n",
    "\n",
    "# create overview of selected features and their importance and scores    \n",
    "print 'Feature Ranking: (importance - score)'\n",
    "for i in indices:\n",
    "\tprint \"{} ({} - {})\".format(\n",
    "\t\tselected_features_list[i+1],\n",
    "\t\tround(importances[i],3), \n",
    "\t\tround(scores_list[i],3))"
   ]
  },
  {
   "cell_type": "markdown",
   "metadata": {},
   "source": [
    "## Task 6: Dump your classifier, dataset, and features_list"
   ]
  },
  {
   "cell_type": "code",
   "execution_count": 19,
   "metadata": {
    "collapsed": true
   },
   "outputs": [],
   "source": [
    "dump_classifier_and_data(clf, my_dataset, new_features_list)"
   ]
  }
 ],
 "metadata": {
  "anaconda-cloud": {},
  "kernelspec": {
   "display_name": "Python [conda env:python2]",
   "language": "python",
   "name": "conda-env-python2-py"
  },
  "language_info": {
   "codemirror_mode": {
    "name": "ipython",
    "version": 2
   },
   "file_extension": ".py",
   "mimetype": "text/x-python",
   "name": "python",
   "nbconvert_exporter": "python",
   "pygments_lexer": "ipython2",
   "version": "2.7.13"
  }
 },
 "nbformat": 4,
 "nbformat_minor": 2
}
