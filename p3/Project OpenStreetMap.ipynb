{
 "cells": [
  {
   "cell_type": "markdown",
   "metadata": {},
   "source": [
    "<h1>Project 3: OpenStreetMap</h1>"
   ]
  },
  {
   "cell_type": "markdown",
   "metadata": {},
   "source": [
    "<h1>Map area</h1>\n",
    "<p>I have chosen to explore the data for the city of <a href=\"https://en.wikipedia.org/wiki/Leiden\">Leiden</a> in the Netherlands. Leiden is the city where I was born and lived for most of my life. As no default map was available, I created a customized map based on the county of Leiden. This map entails Leiden and it surroundings cities and towns.</p>"
   ]
  },
  {
   "cell_type": "markdown",
   "metadata": {},
   "source": [
    "<h1>Exploring the data</h1>\n",
    "<p>To explore and audit the data, I created a smaller sample file (3.6 MB) with the code provided.\n",
    "<ol>\n",
    "<li>I scrolled through this sample file (xml file) in a text editor.</li>\n",
    "<li>I ran the two queries below to explore the available keys and the values for particular keys.</li>\n",
    "<li>I also ran the data.py code for the sample file to be able to explore the data in csv format.</li>\n",
    "</ol>"
   ]
  },
  {
   "cell_type": "markdown",
   "metadata": {},
   "source": [
    "```python\n",
    "def explore_keys(file):\n",
    "    context = ET.iterparse(file, events=('end',))\n",
    "    list = []\n",
    "    for event, elem in context:\n",
    "        for child in elem:\n",
    "            if child.tag == 'tag':\n",
    "                if child.attrib['k'] not in list:\n",
    "                    list.append(child.attrib['k'])\n",
    "    return list```    "
   ]
  },
  {
   "cell_type": "markdown",
   "metadata": {
    "collapsed": true
   },
   "source": [
    "```python\n",
    "def explore_values(file, key):\n",
    "    context = ET.iterparse(file, events=('end',))\n",
    "    list=[]\n",
    "    for event, elem in context:\n",
    "        for child in elem:\n",
    "            if child.tag == 'tag':\n",
    "                if child.attrib['k'] == key:\n",
    "                    if child.attrib['v'] not in list:\n",
    "                        list.append(child.attrib['v'])\n",
    "    return list```"
   ]
  },
  {
   "cell_type": "markdown",
   "metadata": {},
   "source": [
    "<h1>Data problems</h1>\n",
    "<p>I mostly focused on exploring three different keys, namely streetname ('addr:street'), postcode ('addr:postcode') and phone number ('phone').</p>"
   ]
  },
  {
   "cell_type": "markdown",
   "metadata": {},
   "source": [
    "<h2>Streetnames</h2>\n",
    "<p>Unlike the streetnames for the US, the streetnames in this dataset were pretty neat. No abbreviations were found, which was expected as it is less common to abbreviate roadtypes like 'straat' (street), 'laan' (avenue), 'weg' (road) etc in Dutch. Luckily as Dutch streetnames have a different set up as English ones, for example 'Kennedy Avenue' would be 'Kennedylaan' in Dutch. The streettypes are part of the name which would made it more difficult to isolate the streettype part of a streetname. </p> \n",
    "<p>I however noticed that when writing the data to csv some streetnames got obscured, 'Boudewijn Büchpad' became 'Boudewijn BÃ¼chpad'. When the csv was however uploaded to the database I found that the streetnames were printed correctly, so I decided no cleaning was needed.</p>"
   ]
  },
  {
   "cell_type": "markdown",
   "metadata": {},
   "source": [
    "<h2>Postcodes</h2>\n",
    "<p>A postcode in the Netherlands consist of 4 integers, a space and 2 capital letters (#### AA). Eventhough I already knew that my dataset had more data than just for the city of Leiden, this also became clear as postcodes outside the Leiden range (2300–2334) were found. Most values in the sample file had a ####AA format. I therefore decided to clean the data to reflect the correct format by using the code below.</p>\n",
    "<p>Examples: \n",
    "<ul>\n",
    "<li>2321XL to 2321 XL</li>\n",
    "<li>2324 to XXXX AA</li>\n",
    "</ul></p>"
   ]
  },
  {
   "cell_type": "markdown",
   "metadata": {
    "collapsed": true
   },
   "source": [
    "<p>Used code:</p>\n",
    "```python\n",
    "POSTCODE = re.compile(r'^(\\d{4}) ([A-Z]{2})')\n",
    "\n",
    "def fix_postcode(postcode):\n",
    "    if POSTCODE.search(postcode) is None:\n",
    "        if len(postcode)==6:\n",
    "            return postcode[:4] + ' ' + postcode[4:7]\n",
    "        # return placeholder for postcodes which are incomplete, these entries can then easily identified in sql\n",
    "        else:\n",
    "            return 'XXXX AA'\n",
    "    else:\n",
    "        return postcode```"
   ]
  },
  {
   "cell_type": "markdown",
   "metadata": {},
   "source": [
    "<h2>Phone numbers</h2>\n",
    "<p>Exploring the data I found many different formats were used for phonenumbers. Numbers start with an area code (fe 071 for Leiden) or the mobile phone code (06). When a country code is used the prevailing 0 in these codes should not be dialed. The correct phone format including the country code is therefore +31 ## ### ####. So 071 531 9012 becomes +31 71 576 871 9012. The code beneath was used to clean the phone numbers.<p>\n",
    "\n",
    "<p>Examples: \n",
    "<ul>\n",
    "<li>071 531 9012 to +31 71 531 9012</li>\n",
    "<li>31-(0)71-5768279 to +31 71 576 8279\n",
    "<li>0713014920 to +31 71 301 4920</li>\n",
    "</ul></p>"
   ]
  },
  {
   "cell_type": "markdown",
   "metadata": {
    "collapsed": true
   },
   "source": [
    "<p>Used code:</p>\n",
    "```python\n",
    "PHONE = re.compile(r'(\\+31) (\\d{2}) (\\d{3}) (\\d{4})$')\n",
    "\n",
    "def fix_phone_num(phone_num): \n",
    "    # if the phonenumber does is not in the correct format\n",
    "    if PHONE.search(phone_num) is None:    \n",
    "        # remove dashes\n",
    "        if \"-\" in phone_num:\n",
    "            phone_num = phone_num.replace('-','')\n",
    "        # remove spaces\n",
    "        if \" \" in phone_num:\n",
    "            phone_num = phone_num.replace(' ','')\n",
    "        # remove (0)\n",
    "        if \"(0)\" in phone_num:\n",
    "            phone_num = phone_num.replace('(0)','')\n",
    "        # replace starting 0 with +31\n",
    "        if phone_num[0] == '0':\n",
    "            phone_num = '+31' + phone_num[1:]\n",
    "        # replace starting 3 with +31\n",
    "        if phone_num[0] == '3':\n",
    "            phone_num = '+31' + phone_num[2:]\n",
    "        # add country code to number\n",
    "        if phone_num[0] == '7':\n",
    "            phone_num = '+31' + phone_num[0:] \n",
    "        # remove extra 0 after country code\n",
    "        if '+310' in phone_num:\n",
    "            phone_num = phone_num[:3] + phone_num[4:]\n",
    "        # put phonenumber in correct format\n",
    "        return phone_num[:3] + ' ' + phone_num[3:5] + ' ' + phone_num[5:8] + ' ' + phone_num[8:12]\n",
    "    else:\n",
    "        return phone_num```"
   ]
  },
  {
   "cell_type": "markdown",
   "metadata": {},
   "source": [
    "<h2>Other problems</h2>\n",
    "<p>When exploring the created ways_tags.csv I noticed that some keys with a colon showed up as type 'regular'. Did surprised me a bit as I used LOWER_COLON in my shape_element code which seemed to work fine in the case study. When exploring the entries further, I noticed that these key names contain either a capital letter or a number which explains why they were not splitted in a key and type value. As there were only a couple of entries in the sample file and they were not displaying interesting values, I decided to leave these values as they are.</p> "
   ]
  },
  {
   "cell_type": "markdown",
   "metadata": {},
   "source": [
    "<h1>Data overview</h1>"
   ]
  },
  {
   "cell_type": "code",
   "execution_count": 1,
   "metadata": {
    "collapsed": true
   },
   "outputs": [],
   "source": [
    "#imports\n",
    "import os\n",
    "import sqlite3\n",
    "import pandas as pd\n",
    "import matplotlib.pyplot as plt\n",
    "import seaborn as sns\n",
    "%matplotlib inline\n",
    "# Disable warning\n",
    "pd.options.mode.chained_assignment = None"
   ]
  },
  {
   "cell_type": "code",
   "execution_count": 2,
   "metadata": {
    "collapsed": true
   },
   "outputs": [],
   "source": [
    "# create connection with database\n",
    "conn = sqlite3.connect('leiden.db')\n",
    "c = conn.cursor()"
   ]
  },
  {
   "cell_type": "markdown",
   "metadata": {},
   "source": [
    "<h2>File sizes</h2>"
   ]
  },
  {
   "cell_type": "code",
   "execution_count": 3,
   "metadata": {},
   "outputs": [
    {
     "name": "stdout",
     "output_type": "stream",
     "text": [
      "leiden.osm.......... 360.1 MB\n",
      "leiden.db........... 222.4 MB\n",
      "nodes.csv........... 113.8 MB\n",
      "ways_nodes.csv...... 42.4 MB\n",
      "nodes_tags.csv...... 35.0 MB\n",
      "ways_tags.csv....... 32.4 MB\n",
      "ways.csv............ 13.7 MB\n"
     ]
    }
   ],
   "source": [
    "# used in sorted_list to get tuples sorted by size of files\n",
    "def getKey(item):\n",
    "    return item[1]\n",
    "\n",
    "dirpath = '/Users/rianne/Desktop/udacity/Lessons/Lesson 3/project'\n",
    "\n",
    "files_list = []\n",
    "for path, dirs, files in os.walk(dirpath):\n",
    "    files_list.extend([(filename, os.path.getsize(os.path.join(path, filename))) for filename in files])\n",
    "    sorted_list = sorted(files_list, key=getKey, reverse=True)\n",
    "\n",
    "# removing jupyter notebook and images from list by using [:-4]\n",
    "for filename, size in sorted_list[:-4]:\n",
    "    size = size/1000000.0\n",
    "    if size > 100:\n",
    "        print '{:.<20s} {:.4}'.format(filename,size), 'MB'\n",
    "    elif size > 10:\n",
    "        print '{:.<20s} {:.3}'.format(filename,size), 'MB'\n",
    "    else:\n",
    "        print '{:.<20s} {:.2}'.format(filename,size), 'MB'"
   ]
  },
  {
   "cell_type": "markdown",
   "metadata": {},
   "source": [
    "<h2>Number of nodes</h2>"
   ]
  },
  {
   "cell_type": "code",
   "execution_count": 4,
   "metadata": {},
   "outputs": [
    {
     "name": "stdout",
     "output_type": "stream",
     "text": [
      "1356988\n"
     ]
    }
   ],
   "source": [
    "query = 'SELECT count(*) FROM nodes'\n",
    "c.execute(query)\n",
    "results = c.fetchall()\n",
    "print results[0][0]"
   ]
  },
  {
   "cell_type": "markdown",
   "metadata": {},
   "source": [
    "<h2>Number of ways</h2>"
   ]
  },
  {
   "cell_type": "code",
   "execution_count": 5,
   "metadata": {},
   "outputs": [
    {
     "name": "stdout",
     "output_type": "stream",
     "text": [
      "216671\n"
     ]
    }
   ],
   "source": [
    "query = 'SELECT count(*) FROM ways'\n",
    "c.execute(query)\n",
    "results = c.fetchall()\n",
    "print results[0][0]"
   ]
  },
  {
   "cell_type": "markdown",
   "metadata": {},
   "source": [
    "<h2>Number of unique users</h2>"
   ]
  },
  {
   "cell_type": "code",
   "execution_count": 6,
   "metadata": {},
   "outputs": [
    {
     "name": "stdout",
     "output_type": "stream",
     "text": [
      "635\n"
     ]
    }
   ],
   "source": [
    "query = 'SELECT count(distinct x.uid) FROM (SELECT uid FROM ways UNION ALL SELECT uid FROM nodes) as x'\n",
    "c.execute(query)\n",
    "results=c.fetchall()\n",
    "print results[0][0]"
   ]
  },
  {
   "cell_type": "markdown",
   "metadata": {},
   "source": [
    "<h2>Top 10 contributing users</h2>"
   ]
  },
  {
   "cell_type": "code",
   "execution_count": 7,
   "metadata": {},
   "outputs": [
    {
     "data": {
      "text/html": [
       "<div>\n",
       "<table border=\"1\" class=\"dataframe\">\n",
       "  <thead>\n",
       "    <tr style=\"text-align: right;\">\n",
       "      <th></th>\n",
       "      <th>User</th>\n",
       "      <th>Contributions</th>\n",
       "    </tr>\n",
       "  </thead>\n",
       "  <tbody>\n",
       "    <tr>\n",
       "      <th>0</th>\n",
       "      <td>stroet43</td>\n",
       "      <td>410305</td>\n",
       "    </tr>\n",
       "    <tr>\n",
       "      <th>1</th>\n",
       "      <td>It's so funny_BAG</td>\n",
       "      <td>360898</td>\n",
       "    </tr>\n",
       "    <tr>\n",
       "      <th>2</th>\n",
       "      <td>opani_BAG</td>\n",
       "      <td>205273</td>\n",
       "    </tr>\n",
       "    <tr>\n",
       "      <th>3</th>\n",
       "      <td>3dShapes</td>\n",
       "      <td>183037</td>\n",
       "    </tr>\n",
       "    <tr>\n",
       "      <th>4</th>\n",
       "      <td>Computerfreaked_BAG2</td>\n",
       "      <td>87542</td>\n",
       "    </tr>\n",
       "    <tr>\n",
       "      <th>5</th>\n",
       "      <td>Sander H</td>\n",
       "      <td>38518</td>\n",
       "    </tr>\n",
       "    <tr>\n",
       "      <th>6</th>\n",
       "      <td>Chiuaua_BAG</td>\n",
       "      <td>30296</td>\n",
       "    </tr>\n",
       "    <tr>\n",
       "      <th>7</th>\n",
       "      <td>padvinder</td>\n",
       "      <td>22786</td>\n",
       "    </tr>\n",
       "    <tr>\n",
       "      <th>8</th>\n",
       "      <td>DutchMapper</td>\n",
       "      <td>22779</td>\n",
       "    </tr>\n",
       "    <tr>\n",
       "      <th>9</th>\n",
       "      <td>CJTmmr</td>\n",
       "      <td>17180</td>\n",
       "    </tr>\n",
       "  </tbody>\n",
       "</table>\n",
       "</div>"
      ],
      "text/plain": [
       "                   User  Contributions\n",
       "0              stroet43         410305\n",
       "1     It's so funny_BAG         360898\n",
       "2             opani_BAG         205273\n",
       "3              3dShapes         183037\n",
       "4  Computerfreaked_BAG2          87542\n",
       "5              Sander H          38518\n",
       "6           Chiuaua_BAG          30296\n",
       "7             padvinder          22786\n",
       "8           DutchMapper          22779\n",
       "9                CJTmmr          17180"
      ]
     },
     "execution_count": 7,
     "metadata": {},
     "output_type": "execute_result"
    }
   ],
   "source": [
    "# Find top 10 users and their number of contributions\n",
    "query = '''\n",
    "SELECT \n",
    "  x.user, count(*) as num\n",
    "FROM \n",
    "  (SELECT user, timestamp FROM ways UNION ALL SELECT user, timestamp FROM nodes) as x \n",
    "GROUP BY \n",
    "  x.user \n",
    "ORDER BY \n",
    "  num DESC \n",
    "LIMIT 10'''\n",
    "\n",
    "c.execute(query)\n",
    "results = c.fetchall()\n",
    "\n",
    "# create df in order to display data nicely\n",
    "df = pd.DataFrame(results)\n",
    "users_df = df.rename(columns={0:'User', 1:'Contributions'})\n",
    "users_df"
   ]
  },
  {
   "cell_type": "markdown",
   "metadata": {},
   "source": [
    "<h1>Additional explorations</h1>"
   ]
  },
  {
   "cell_type": "markdown",
   "metadata": {},
   "source": [
    "<h2>Contributors & their sources</h2>\n",
    "<p>The top 10 contributors found above, contributed 88% of the nodes and ways in this database. The top 5 even contributed 79% of all entries. On the other hand 351 of the 635 contributors only made 10 or less contributions. This made me wonder how these top contributors could contribute so many.</p> "
   ]
  },
  {
   "cell_type": "code",
   "execution_count": 8,
   "metadata": {},
   "outputs": [
    {
     "name": "stdout",
     "output_type": "stream",
     "text": [
      "% contributions by top 10 contributors: 0.88\n",
      "% contributions by top 5 contributors: 0.79\n"
     ]
    }
   ],
   "source": [
    "# total contributions of top 10 contributors\n",
    "query10 = '''\n",
    "SELECT \n",
    "  sum(num) \n",
    "FROM\n",
    "  (SELECT \n",
    "     x.user, count(*) as num \n",
    "   FROM \n",
    "     (SELECT user FROM ways UNION ALL SELECT user FROM nodes) as x \n",
    "   GROUP BY \n",
    "     x.user \n",
    "   ORDER BY \n",
    "     num DESC \n",
    "   LIMIT 10)'''\n",
    "\n",
    "c.execute(query10)\n",
    "a = c.fetchall()\n",
    "a = a[0][0]\n",
    "\n",
    "# total contributions of top 5 contributors\n",
    "query5 = '''\n",
    "SELECT \n",
    "  sum(num) \n",
    "FROM\n",
    "  (SELECT \n",
    "     x.user, count(*) as num \n",
    "   FROM \n",
    "     (SELECT user FROM ways UNION ALL SELECT user FROM nodes) as x \n",
    "   GROUP BY \n",
    "     x.user \n",
    "   ORDER BY \n",
    "     num DESC \n",
    "   LIMIT 5)'''\n",
    "\n",
    "c.execute(query5)\n",
    "b = c.fetchall()\n",
    "b = b[0][0]\n",
    "\n",
    "# total contributions in database\n",
    "query = '''\n",
    "SELECT \n",
    "  count(x.uid) \n",
    "FROM \n",
    "  (SELECT uid FROM ways UNION ALL SELECT uid FROM nodes) as x'''\n",
    "c.execute(query)\n",
    "total = c.fetchall()\n",
    "\n",
    "print '% contributions by top 10 contributors:', round((float(a)/ total[0][0]),2)\n",
    "print '% contributions by top 5 contributors:', round((float(b)/ total[0][0]),2)"
   ]
  },
  {
   "cell_type": "code",
   "execution_count": 9,
   "metadata": {},
   "outputs": [
    {
     "name": "stdout",
     "output_type": "stream",
     "text": [
      "Number of contributors who made 10 or less contributions: 351\n"
     ]
    }
   ],
   "source": [
    "query = '''\n",
    "SELECT \n",
    "  count(*)\n",
    "FROM \n",
    "  (SELECT\n",
    "     x.user as user, count(*) as num \n",
    "   FROM \n",
    "     (SELECT user FROM ways UNION ALL SELECT user FROM nodes) as x\n",
    "   GROUP BY \n",
    "     x.user\n",
    "   HAVING \n",
    "     num <= 10)'''\n",
    "\n",
    "c.execute(query)\n",
    "results=c.fetchall()\n",
    "print 'Number of contributors who made 10 or less contributions:', results[0][0]"
   ]
  },
  {
   "cell_type": "markdown",
   "metadata": {},
   "source": [
    "<p>So I decided to look when these top contributors made their first and last contribution. The users with 'BAG' in their names seemed to be only active in 2014 and some only for a couple of months or even a couple of weeks. How can they make so many contributions? On the Wiki for OpenStreetMap I found <a href='http://wiki.openstreetmap.org/wiki/BAGimport'>this article</a> about how to import data from BAG (Basisregistratie Adressen en Gebouwen, Registration of addresses and building). This article also made clear that 3dShapes did something similar before 2014. These are databases that were imported to OpenStreetMaps. So this automatically uploading of data explains why some users have so many contributions and why the format of entries is overall pretty consistent (less human error when added).</p>"
   ]
  },
  {
   "cell_type": "code",
   "execution_count": 10,
   "metadata": {},
   "outputs": [
    {
     "data": {
      "text/html": [
       "<div>\n",
       "<table border=\"1\" class=\"dataframe\">\n",
       "  <thead>\n",
       "    <tr style=\"text-align: right;\">\n",
       "      <th></th>\n",
       "      <th>User</th>\n",
       "      <th>Contributions</th>\n",
       "      <th>First contribution</th>\n",
       "      <th>Last contribution</th>\n",
       "    </tr>\n",
       "  </thead>\n",
       "  <tbody>\n",
       "    <tr>\n",
       "      <th>0</th>\n",
       "      <td>stroet43</td>\n",
       "      <td>410305</td>\n",
       "      <td>2008-05-03</td>\n",
       "      <td>2017-02-26</td>\n",
       "    </tr>\n",
       "    <tr>\n",
       "      <th>1</th>\n",
       "      <td>It's so funny_BAG</td>\n",
       "      <td>360898</td>\n",
       "      <td>2014-01-02</td>\n",
       "      <td>2014-06-05</td>\n",
       "    </tr>\n",
       "    <tr>\n",
       "      <th>2</th>\n",
       "      <td>opani_BAG</td>\n",
       "      <td>205273</td>\n",
       "      <td>2014-05-11</td>\n",
       "      <td>2014-06-02</td>\n",
       "    </tr>\n",
       "    <tr>\n",
       "      <th>3</th>\n",
       "      <td>3dShapes</td>\n",
       "      <td>183037</td>\n",
       "      <td>2010-02-15</td>\n",
       "      <td>2011-01-30</td>\n",
       "    </tr>\n",
       "    <tr>\n",
       "      <th>4</th>\n",
       "      <td>Computerfreaked_BAG2</td>\n",
       "      <td>87542</td>\n",
       "      <td>2014-03-19</td>\n",
       "      <td>2014-06-04</td>\n",
       "    </tr>\n",
       "    <tr>\n",
       "      <th>5</th>\n",
       "      <td>Sander H</td>\n",
       "      <td>38518</td>\n",
       "      <td>2013-08-11</td>\n",
       "      <td>2017-07-11</td>\n",
       "    </tr>\n",
       "    <tr>\n",
       "      <th>6</th>\n",
       "      <td>Chiuaua_BAG</td>\n",
       "      <td>30296</td>\n",
       "      <td>2014-05-03</td>\n",
       "      <td>2014-05-21</td>\n",
       "    </tr>\n",
       "    <tr>\n",
       "      <th>7</th>\n",
       "      <td>padvinder</td>\n",
       "      <td>22786</td>\n",
       "      <td>2012-12-20</td>\n",
       "      <td>2017-02-24</td>\n",
       "    </tr>\n",
       "    <tr>\n",
       "      <th>8</th>\n",
       "      <td>DutchMapper</td>\n",
       "      <td>22779</td>\n",
       "      <td>2016-04-11</td>\n",
       "      <td>2017-07-17</td>\n",
       "    </tr>\n",
       "    <tr>\n",
       "      <th>9</th>\n",
       "      <td>CJTmmr</td>\n",
       "      <td>17180</td>\n",
       "      <td>2014-06-01</td>\n",
       "      <td>2017-06-25</td>\n",
       "    </tr>\n",
       "  </tbody>\n",
       "</table>\n",
       "</div>"
      ],
      "text/plain": [
       "                   User  Contributions First contribution Last contribution\n",
       "0              stroet43         410305         2008-05-03        2017-02-26\n",
       "1     It's so funny_BAG         360898         2014-01-02        2014-06-05\n",
       "2             opani_BAG         205273         2014-05-11        2014-06-02\n",
       "3              3dShapes         183037         2010-02-15        2011-01-30\n",
       "4  Computerfreaked_BAG2          87542         2014-03-19        2014-06-04\n",
       "5              Sander H          38518         2013-08-11        2017-07-11\n",
       "6           Chiuaua_BAG          30296         2014-05-03        2014-05-21\n",
       "7             padvinder          22786         2012-12-20        2017-02-24\n",
       "8           DutchMapper          22779         2016-04-11        2017-07-17\n",
       "9                CJTmmr          17180         2014-06-01        2017-06-25"
      ]
     },
     "execution_count": 10,
     "metadata": {},
     "output_type": "execute_result"
    }
   ],
   "source": [
    "# Find top 10 users, their number of contributions and their first and last contribution\n",
    "query = '''\n",
    "SELECT \n",
    "  x.user, count(*) as num, min(date(substr(timestamp,1,19))), max(date(substr(timestamp,1,19)))\n",
    "FROM \n",
    "  (SELECT user, timestamp FROM ways UNION ALL SELECT user, timestamp FROM nodes) as x \n",
    "GROUP BY \n",
    "  x.user \n",
    "ORDER BY \n",
    "  num DESC \n",
    "LIMIT 10'''\n",
    "\n",
    "c.execute(query)\n",
    "results = c.fetchall()\n",
    "# create df in order to display data nicely\n",
    "df = pd.DataFrame(results)\n",
    "users_df = df.rename(columns={0:'User', 1:'Contributions', 2:'First contribution', 3:'Last contribution'})\n",
    "users_df"
   ]
  },
  {
   "cell_type": "markdown",
   "metadata": {},
   "source": [
    "<p>There are 1,573,659 ways and nodes in the Leiden database. 333,442 of these are sources by BAG and 15,168 by 3dShapes. 22% of the database is sourced by one of these two sources and no other big sources are used. The next two sources (ProRail and Arriva) are public transport companies.</p>"
   ]
  },
  {
   "cell_type": "code",
   "execution_count": 11,
   "metadata": {},
   "outputs": [
    {
     "name": "stdout",
     "output_type": "stream",
     "text": [
      "Number of ways and nodes in database: 1573659\n",
      "% of nodes and ways sources by BAG and 3dShapes: 0.2215\n"
     ]
    },
    {
     "data": {
      "text/html": [
       "<div>\n",
       "<table border=\"1\" class=\"dataframe\">\n",
       "  <thead>\n",
       "    <tr style=\"text-align: right;\">\n",
       "      <th></th>\n",
       "      <th>Source</th>\n",
       "      <th>Frequency</th>\n",
       "    </tr>\n",
       "  </thead>\n",
       "  <tbody>\n",
       "    <tr>\n",
       "      <th>0</th>\n",
       "      <td>BAG</td>\n",
       "      <td>333422</td>\n",
       "    </tr>\n",
       "    <tr>\n",
       "      <th>1</th>\n",
       "      <td>3dShapes</td>\n",
       "      <td>15168</td>\n",
       "    </tr>\n",
       "    <tr>\n",
       "      <th>2</th>\n",
       "      <td>ProRail</td>\n",
       "      <td>994</td>\n",
       "    </tr>\n",
       "    <tr>\n",
       "      <th>3</th>\n",
       "      <td>Arriva</td>\n",
       "      <td>521</td>\n",
       "    </tr>\n",
       "    <tr>\n",
       "      <th>4</th>\n",
       "      <td>survey</td>\n",
       "      <td>309</td>\n",
       "    </tr>\n",
       "  </tbody>\n",
       "</table>\n",
       "</div>"
      ],
      "text/plain": [
       "     Source  Frequency\n",
       "0       BAG     333422\n",
       "1  3dShapes      15168\n",
       "2   ProRail        994\n",
       "3    Arriva        521\n",
       "4    survey        309"
      ]
     },
     "execution_count": 11,
     "metadata": {},
     "output_type": "execute_result"
    }
   ],
   "source": [
    "# find total number of ways and nodes in database\n",
    "query_total = 'SELECT count(*) FROM (SELECT id FROM nodes UNION ALL SELECT id FROM ways)'\n",
    "c.execute(query_total)\n",
    "results_total = c.fetchall()\n",
    "print \"Number of ways and nodes in database:\", results_total[0][0]\n",
    "\n",
    "# find the different types of sources used and their frequency\n",
    "query = '''\n",
    "SELECT \n",
    "  value, count(*) as num\n",
    "FROM\n",
    "  (SELECT * FROM ways_tags UNION ALL SELECT * FROM nodes_tags) \n",
    "WHERE \n",
    "  key = 'source'\n",
    "GROUP BY\n",
    "  value\n",
    "ORDER BY\n",
    "  num DESC '''\n",
    "\n",
    "c.execute(query)\n",
    "results=c.fetchall()\n",
    "df = pd.DataFrame(results)\n",
    "sources_df = df.rename(columns={0:'Source', 1:'Frequency'})\n",
    "\n",
    "# find % \n",
    "print \"% of nodes and ways sources by BAG and 3dShapes:\", \\\n",
    "  round((sources_df.at[0,'Frequency'] + sources_df.at[1,'Frequency']) / float(results_total[0][0]),4)\n",
    "\n",
    "sources_df.head(5)"
   ]
  },
  {
   "cell_type": "markdown",
   "metadata": {},
   "source": [
    "<p>If we look at the top 1 contributor (stroet43) 119,977 of his 410,305 contributions are sourced by BAG. For the majority of his/her entries no source tag is available. If nodes have no tags it can either be that they are forgotten to be added or the node is part of a way (streets, waterways etc) or relation which does not require tags. But I am still wondering where the information for these nodes is coming from.</p>"
   ]
  },
  {
   "cell_type": "code",
   "execution_count": 12,
   "metadata": {},
   "outputs": [
    {
     "data": {
      "text/html": [
       "<div>\n",
       "<table border=\"1\" class=\"dataframe\">\n",
       "  <thead>\n",
       "    <tr style=\"text-align: right;\">\n",
       "      <th></th>\n",
       "      <th>Source</th>\n",
       "      <th>Frequency</th>\n",
       "    </tr>\n",
       "  </thead>\n",
       "  <tbody>\n",
       "    <tr>\n",
       "      <th>0</th>\n",
       "      <td>BAG</td>\n",
       "      <td>119977</td>\n",
       "    </tr>\n",
       "    <tr>\n",
       "      <th>1</th>\n",
       "      <td>survey</td>\n",
       "      <td>69</td>\n",
       "    </tr>\n",
       "    <tr>\n",
       "      <th>2</th>\n",
       "      <td>3dShapes</td>\n",
       "      <td>31</td>\n",
       "    </tr>\n",
       "    <tr>\n",
       "      <th>3</th>\n",
       "      <td>Arriva</td>\n",
       "      <td>4</td>\n",
       "    </tr>\n",
       "    <tr>\n",
       "      <th>4</th>\n",
       "      <td>Yahoo</td>\n",
       "      <td>3</td>\n",
       "    </tr>\n",
       "  </tbody>\n",
       "</table>\n",
       "</div>"
      ],
      "text/plain": [
       "     Source  Frequency\n",
       "0       BAG     119977\n",
       "1    survey         69\n",
       "2  3dShapes         31\n",
       "3    Arriva          4\n",
       "4     Yahoo          3"
      ]
     },
     "execution_count": 12,
     "metadata": {},
     "output_type": "execute_result"
    }
   ],
   "source": [
    "# find sources used by top 1 contributor, stroet43\n",
    "query = '''\n",
    "SELECT\n",
    "  value, count(*) as num\n",
    "FROM\n",
    "  (SELECT * FROM ways_tags UNION ALL SELECT * FROM nodes_tags)\n",
    "WHERE \n",
    "  id IN (SELECT id FROM (SELECT id, user FROM ways UNION ALL SELECT id, user FROM nodes) WHERE user = \"stroet43\") \n",
    "AND\n",
    "  key = 'source'\n",
    "GROUP BY\n",
    "  value\n",
    "ORDER BY\n",
    "  num DESC\n",
    "'''\n",
    "\n",
    "c.execute(query)\n",
    "results = c.fetchall()\n",
    "df = pd.DataFrame(results)\n",
    "source_df = df.rename(columns={0:'Source', 1:'Frequency'})\n",
    "source_df.head(5)"
   ]
  },
  {
   "cell_type": "markdown",
   "metadata": {},
   "source": [
    "<h2>City boundaries</h2>\n",
    "<p>As the lat and lon coordinates of every node is given I thought it would be nice to plot these in a scatterplot and see if it showed up as expected (<a href=\"https://goo.gl/maps/mBUMRvSM5dE2\">Leiden boundary</a>). I started with the city boundaries (admin_level = 8, <a href=\"http://wiki.openstreetmap.org/wiki/Tag:boundary%3Dadministrative#11_admin_level_values_for_specific_countries\">source</a>). See plot below, as the database contains for also data for the surroundings of Leiden, we see multiple city boundaries.</p>"
   ]
  },
  {
   "cell_type": "code",
   "execution_count": 13,
   "metadata": {},
   "outputs": [
    {
     "data": {
      "image/png": "[encoded data removed]",
      "text/plain": [
       "<matplotlib.figure.Figure at 0x111c5ea10>"
      ]
     },
     "metadata": {},
     "output_type": "display_data"
    }
   ],
   "source": [
    "# find city boundaries\n",
    "query = '''\n",
    "SELECT \n",
    "  nodes.lat, nodes.lon\n",
    "FROM \n",
    "  nodes\n",
    "INNER JOIN\n",
    "  (SELECT \n",
    "     w_n.node_id as node_id \n",
    "   FROM\n",
    "     (SELECT id FROM ways_tags WHERE key = 'admin_level' AND value='8') as w\n",
    "   LEFT JOIN\n",
    "     ways_nodes as w_n\n",
    "   ON w.id = w_n.id) as ways_\n",
    "ON \n",
    "ways_.node_id = nodes.id\n",
    "'''\n",
    "\n",
    "c.execute(query)\n",
    "results = c.fetchall()\n",
    "df = pd.DataFrame(results)\n",
    "df_city = df.rename(columns={0:\"Lat\",1: \"Lon\"})\n",
    "\n",
    "# plot city boundaries\n",
    "sns.pairplot(df_city, x_vars='Lon', y_vars='Lat', size=6)\n",
    "plt.show()"
   ]
  },
  {
   "cell_type": "markdown",
   "metadata": {},
   "source": [
    "<p>Not very scientific, but based on observation I have narrowed the area that is shown, so the city boundaries of Leiden are the focus. I think that with help of relations you probably could get the nodes that made up only the city boundaries for Leiden, but I did not explore this further for now. The shape of the city looks as expected.</p>"
   ]
  },
  {
   "cell_type": "code",
   "execution_count": 14,
   "metadata": {},
   "outputs": [
    {
     "data": {
      "image/png": "[encoded data removed]",
      "text/plain": [
       "<matplotlib.figure.Figure at 0x1151d4110>"
      ]
     },
     "metadata": {},
     "output_type": "display_data"
    }
   ],
   "source": [
    "# isolate city boundaries for Leiden\n",
    "df_leiden = df_city[(df_city.Lon>=4.438) & (df_city.Lon<=4.525) & (df_city.Lat>=52.118) & (df_city.Lat<=52.187)]\n",
    "sns.pairplot(df_leiden, x_vars='Lon', y_vars='Lat', size=6)\n",
    "plt.show()"
   ]
  },
  {
   "cell_type": "markdown",
   "metadata": {},
   "source": [
    "<h2>Accommodations</h2>\n",
    "<p>According to <a href=\"https://www.booking.com/searchresults.html?aid=336408&label=leiden-eQY7Tt_tNuHhM*fOEHaJyQS201212258357%3Apl%3Ata%3Ap135%3Ap2%3Aac%3Aap1t1%3Aneg%3Afi%3Atiaud-285284111246%3Akwd-12082263405%3Alp9032131%3Ali%3Adec%3Adm&sid=47e09a33541d6055c22d59c7fb294706&sb=1&src=city&src_elem=sb&error_url=https%3A%2F%2Fwww.booking.com%2Fcity%2Fnl%2Fleiden.html%3Faid%3D336408%3Blabel%3Dleiden-eQY7Tt_tNuHhM%252AfOEHaJyQS201212258357%253Apl%253Ata%253Ap135%253Ap2%253Aac%253Aap1t1%253Aneg%253Afi%253Atiaud-285284111246%253Akwd-12082263405%253Alp9032131%253Ali%253Adec%253Adm%3Bsid%3D47e09a33541d6055c22d59c7fb294706%3Binac%3D0%26%3B&ssne=Leiden&ssne_untouched=Leiden&city=-2148516&checkin_month=&checkin_monthday=&checkin_year=&checkout_month=&checkout_monthday=&checkout_year=&room1=A%2CA&no_rooms=1&group_adults=2&group_children=0&genius_rate=1\">Booking.com</a> Leiden has 35 places for accommodations (it shows 41 but 6 of those are in Oegstgeest a neigbouring town). So I was wondering how many of these are available in the OpenStreetMap database.</p>\n",
    "<p>There are 20 <a  href=\"https://wiki.openstreetmap.org/wiki/Map_Features#Tourism\">hotels</a> in Leiden according to the database, which is lower than the number Booking.com has provided us. However as we also take into account other types of accommodation (like guest houses, motels and hostels) we find 82 places. As a bigger area than Leiden is covered in the database, I tried to find out how many of these places are located within the city boundaries. </p>\n",
    "<p>First by trying to find out if they have a city tag. Only 9 of the 82 locations have a city tag and of these only 4 are indicated as being in Leiden. After that I tried to do the same for postcodes, but only 6 accommodations in the dataset have a postcode tag (of which 2 are in Leiden, postcode between 2300 and 2334).</p> "
   ]
  },
  {
   "cell_type": "code",
   "execution_count": 16,
   "metadata": {},
   "outputs": [
    {
     "name": "stdout",
     "output_type": "stream",
     "text": [
      "Hotels in Leiden database: 20\n"
     ]
    }
   ],
   "source": [
    "# find hotels\n",
    "query = ' SELECT count(id) FROM nodes_tags WHERE key = \"tourism\" AND value = \"hotel\"'\n",
    "\n",
    "c.execute(query)\n",
    "results = c.fetchall()\n",
    "print \"Hotels in Leiden database:\", results[0][0]"
   ]
  },
  {
   "cell_type": "code",
   "execution_count": 17,
   "metadata": {},
   "outputs": [
    {
     "name": "stdout",
     "output_type": "stream",
     "text": [
      "Accommodations in Leiden database: 82\n"
     ]
    }
   ],
   "source": [
    "# find all types of accommodation\n",
    "query = '''\n",
    "SELECT \n",
    "  count(id)\n",
    "FROM \n",
    "  nodes_tags \n",
    "WHERE \n",
    "  key = \"tourism\" AND (value = \"hotel\" OR value=\"guest_house\" OR value=\"hostel\" OR value=\"motel\")'''\n",
    "\n",
    "c.execute(query)\n",
    "results = c.fetchall()\n",
    "print \"Accommodations in Leiden database:\", results[0][0]"
   ]
  },
  {
   "cell_type": "code",
   "execution_count": 18,
   "metadata": {},
   "outputs": [
    {
     "name": "stdout",
     "output_type": "stream",
     "text": [
      "Accommodation that has a city tag: 9\n",
      "Accommodation that is located in Leiden: 4\n"
     ]
    }
   ],
   "source": [
    "# find accommodation that has a city tag\n",
    "query1 = '''\n",
    "SELECT \n",
    "  count(*) \n",
    "FROM \n",
    "  nodes_tags\n",
    "INNER JOIN \n",
    "  (SELECT id FROM nodes_tags WHERE key = \"tourism\" AND \n",
    "   (value = \"hotel\" OR value=\"guest_house\" OR value=\"hostel\" OR value=\"motel\")) as hotels\n",
    "ON \n",
    "  hotels.id = nodes_tags.id\n",
    "WHERE \n",
    "  key = 'city'\n",
    "'''\n",
    "\n",
    "c.execute(query1)\n",
    "results = c.fetchall()\n",
    "print \"Accommodation that has a city tag:\", results[0][0]\n",
    "\n",
    "# find accommodation that has a city tag for Leiden\n",
    "query2 = '''\n",
    "SELECT \n",
    "  count(*) \n",
    "FROM \n",
    "  nodes_tags\n",
    "INNER JOIN \n",
    "  (SELECT id FROM nodes_tags WHERE key = \"tourism\" \n",
    "   AND (value = \"hotel\" OR value=\"guest_house\" OR value=\"hostel\" OR value=\"motel\")) as hotels\n",
    "ON \n",
    "  hotels.id = nodes_tags.id\n",
    "WHERE \n",
    "  key = 'city' AND value = 'Leiden'\n",
    "'''\n",
    "\n",
    "c.execute(query2)\n",
    "results=c.fetchall()\n",
    "print \"Accommodation that is located in Leiden:\", results[0][0]"
   ]
  },
  {
   "cell_type": "code",
   "execution_count": 19,
   "metadata": {},
   "outputs": [
    {
     "name": "stdout",
     "output_type": "stream",
     "text": [
      "Accommodation that has a postcode tag: 6\n"
     ]
    }
   ],
   "source": [
    "# find accommodation that has a postcode\n",
    "query = '''\n",
    "SELECT \n",
    "  value \n",
    "FROM \n",
    "  nodes_tags\n",
    "INNER JOIN \n",
    "  (SELECT id FROM nodes_tags WHERE key = \"tourism\" \n",
    "   AND (value = \"hotel\" OR value=\"guest_house\" OR value=\"hostel\" OR value=\"motel\")) as hotels\n",
    "ON \n",
    "  hotels.id = nodes_tags.id\n",
    "WHERE \n",
    "  key = 'postcode'\n",
    "'''\n",
    "\n",
    "c.execute(query)\n",
    "results = c.fetchall()\n",
    "#print results\n",
    "print \"Accommodation that has a postcode tag:\", len(results)"
   ]
  },
  {
   "cell_type": "markdown",
   "metadata": {},
   "source": [
    "<h3>Using lat & lon</h3>\n",
    "<p>Another way to determine the location of an accommodation would be looking if its lat and lon coordinates falls within the city of Leiden. I found that 12 hotels and 33 guest houses were located in Leiden.</p>"
   ]
  },
  {
   "cell_type": "code",
   "execution_count": 20,
   "metadata": {},
   "outputs": [
    {
     "data": {
      "text/html": [
       "<div>\n",
       "<table border=\"1\" class=\"dataframe\">\n",
       "  <thead>\n",
       "    <tr style=\"text-align: right;\">\n",
       "      <th></th>\n",
       "      <th>Type</th>\n",
       "      <th>Number</th>\n",
       "    </tr>\n",
       "  </thead>\n",
       "  <tbody>\n",
       "    <tr>\n",
       "      <th>0</th>\n",
       "      <td>guest_house</td>\n",
       "      <td>33</td>\n",
       "    </tr>\n",
       "    <tr>\n",
       "      <th>1</th>\n",
       "      <td>hotel</td>\n",
       "      <td>12</td>\n",
       "    </tr>\n",
       "  </tbody>\n",
       "</table>\n",
       "</div>"
      ],
      "text/plain": [
       "          Type  Number\n",
       "0  guest_house      33\n",
       "1        hotel      12"
      ]
     },
     "execution_count": 20,
     "metadata": {},
     "output_type": "execute_result"
    }
   ],
   "source": [
    "# find accommodation that is in Leiden based on lat, lon coordinates\n",
    "query = '''\n",
    "SELECT \n",
    "  value, count(*)\n",
    "FROM \n",
    "  (SELECT \n",
    "     nodes.lat, nodes.lon, hotels.value \n",
    "   FROM \n",
    "     nodes \n",
    "   INNER JOIN \n",
    "     (SELECT id, value FROM nodes_tags WHERE key = \"tourism\" AND \n",
    "      (value = \"hotel\" OR value=\"guest_house\" OR value=\"hostel\" OR value=\"motel\")) as hotels \n",
    "   ON \n",
    "     nodes.id = hotels.id)\n",
    "WHERE \n",
    "  (lat BETWEEN 52.118 AND 52.185) AND (lon BETWEEN 4.438 AND 4.524)\n",
    "GROUP BY\n",
    "  value\n",
    "'''\n",
    "\n",
    "c.execute(query)\n",
    "results = c.fetchall()\n",
    "df = pd.DataFrame(results)\n",
    "df = df.rename(columns={0:\"Type\",1: \"Number\"})\n",
    "df"
   ]
  },
  {
   "cell_type": "code",
   "execution_count": 21,
   "metadata": {},
   "outputs": [
    {
     "data": {
      "image/png": "[encoded data removed]",
      "text/plain": [
       "<matplotlib.figure.Figure at 0x111babf10>"
      ]
     },
     "metadata": {},
     "output_type": "display_data"
    }
   ],
   "source": [
    "# create dataframe for the hotels\n",
    "query = '''\n",
    "SELECT \n",
    "  lat, lon, value\n",
    "FROM \n",
    "  (SELECT \n",
    "     nodes.lat, nodes.lon, hotels.value \n",
    "   FROM \n",
    "     nodes \n",
    "   INNER JOIN \n",
    "     (SELECT id, value FROM nodes_tags WHERE key = \"tourism\" AND \n",
    "      (value = \"hotel\" OR value=\"guest_house\" OR value=\"hostel\" OR value=\"motel\")) as hotels \n",
    "   ON \n",
    "     nodes.id = hotels.id)\n",
    "WHERE \n",
    "  (lat BETWEEN 52.118 AND 52.185) AND (lon BETWEEN 4.438 AND 4.524)\n",
    "'''\n",
    "\n",
    "c.execute(query)\n",
    "results_hotels = c.fetchall()\n",
    "df = pd.DataFrame(results_hotels)\n",
    "df_hotels = df.rename(columns={0:\"Lat\",1: \"Lon\",2:\"Type\"})\n",
    "\n",
    "# combine city boundary and hotel dataframes\n",
    "df = df_city.append(df_hotels)\n",
    "df_hotels_city = df.fillna('boundary')\n",
    "df_hotels_city = df_hotels_city[(df_hotels_city.Lon>=4.438) & (df_hotels_city.Lon<=4.524) &\\\n",
    "               (df_hotels_city.Lat>=52.118) & (df_hotels_city.Lat<=52.185)]\n",
    "\n",
    "# plot hotels and city boundaries\n",
    "sns.pairplot(df_hotels_city, x_vars='Lon', y_vars='Lat', hue='Type', size=7, markers=\"o\")\n",
    "plt.show()"
   ]
  },
  {
   "cell_type": "markdown",
   "metadata": {},
   "source": [
    "<p>As the city boundaries are not in the form of a rectangle, we can see that when we plot the hotels only 41 accommodations actually fall within the city boundaries. Most of the hotels are clustered in the center of the city as one can expect for a city in Europe.</p>\n",
    "<p>In the past the city of Leiden was located within the <a href=\"https://nl.wikipedia.org/wiki/Singel_(gracht)\">singels</a> (canals). The singels are man made waterways that were part of the defense of the fortified system. The singel system was finished in <a href=\"https://nl.wikipedia.org/wiki/Leiden\">1659</a>. Until today the city center is perceived as lying within the singels. The white area in the image below, where the surrounding blue lines show the singels.</p> <img src='Leiden_Annexaties.jpg',width=300,height=300>"
   ]
  },
  {
   "cell_type": "code",
   "execution_count": 22,
   "metadata": {},
   "outputs": [
    {
     "data": {
      "image/png": "[encoded data removed]",
      "text/plain": [
       "<matplotlib.figure.Figure at 0x111cfe0d0>"
      ]
     },
     "metadata": {},
     "output_type": "display_data"
    }
   ],
   "source": [
    "# find the singels\n",
    "query = '''\n",
    "SELECT \n",
    "  nodes.lat, nodes.lon\n",
    "FROM \n",
    "  (SELECT \n",
    "     * \n",
    "   FROM \n",
    "     nodes_tags \n",
    "   WHERE \n",
    "     key = 'street' AND (value=\"Zoeterwoudsesingel\" OR value ='Witte Singel' OR value='Zijlsingel' OR \n",
    "     value='Rijnsburgersingel' OR value='Maresingel' OR value='Herensingel' OR value='Morssingel' )) as kv\n",
    "LEFT JOIN \n",
    "  nodes\n",
    "ON \n",
    "  kv.id = nodes.id\n",
    "'''\n",
    "\n",
    "c.execute(query)\n",
    "results = c.fetchall()\n",
    "df = pd.DataFrame(results)\n",
    "df['Type'] = 'singel'\n",
    "df_singels = df.rename(columns={0:\"Lat\",1: \"Lon\"})\n",
    "\n",
    "# combine city boundaries and singels data\n",
    "df_leiden['Type'] = 'boundary'\n",
    "df_leiden_singels = df_leiden.append(df_singels)\n",
    "df_leiden_singels = df_leiden_singels[(df_leiden_singels.Lon>=4.438) & (df_leiden_singels.Lon<=4.524) &\\\n",
    "               (df_leiden_singels.Lat>=52.118) & (df_leiden_singels.Lat<=52.185)]\n",
    "\n",
    "# add the hotel data\n",
    "df_acc = df_hotels[['Lat', 'Lon']]\n",
    "df_acc['Type'] = 'accommodation'\n",
    "df_leiden_singels_acc = df_leiden_singels.append(df_acc)\n",
    "\n",
    "sns.pairplot(df_leiden_singels_acc, x_vars='Lon', y_vars='Lat', hue='Type', size=7, plot_kws={\"s\": 20})\n",
    "plt.show()"
   ]
  },
  {
   "cell_type": "markdown",
   "metadata": {},
   "source": [
    "<p>As expected most of the accomodations lies within the singels of Leiden.</p>"
   ]
  },
  {
   "cell_type": "markdown",
   "metadata": {},
   "source": [
    "<h1>Dataset improvements</h1>\n",
    "<p>Going through data wrangling and analysis process I came across a number of things were the OpenStreetMap dataset could use some improvement.</p>\n",
    "<h2>Sources</h2>\n",
    "<p>When looking at the sources I found that for a the majority of the entries of the top 10 contributors no source was indicated. For only 22,3% of the the Leiden database source tags are available. As noted nodes do not necessarily need tags as they can be part of a way or relations, but it would be interesting to see where this information is coming from.</p>\n",
    "<p>Another thing I came across that requires cleaning is that sometimes the source value holds multiple sources. Having one source per tag would be cleaner and managable to clean up as most used semi colons to separate the different sources.</p>"
   ]
  },
  {
   "cell_type": "code",
   "execution_count": 23,
   "metadata": {},
   "outputs": [
    {
     "name": "stdout",
     "output_type": "stream",
     "text": [
      "% of nodes and ways that have a source tag: 0.2234\n"
     ]
    }
   ],
   "source": [
    "# find total number of ways and nodes in database\n",
    "query_total = 'SELECT count(*) FROM (SELECT id FROM nodes UNION ALL SELECT id FROM ways)'\n",
    "c.execute(query_total)\n",
    "results_total = c.fetchall()\n",
    "\n",
    "# find the number of nodes and ways that have a source tag\n",
    "query = '''\n",
    "SELECT \n",
    "  count(*)\n",
    "FROM\n",
    "  (SELECT * FROM ways_tags UNION ALL SELECT * FROM nodes_tags) \n",
    "WHERE \n",
    "  key = 'source'\n",
    "'''\n",
    "\n",
    "c.execute(query)\n",
    "results=c.fetchall()\n",
    "\n",
    "print \"% of nodes and ways that have a source tag:\", \\\n",
    "  round((results[0][0]) / float(results_total[0][0]),4)"
   ]
  },
  {
   "cell_type": "markdown",
   "metadata": {},
   "source": [
    "<h2>Addresses</h2>\n",
    "<p>It is clear from the accommodation analysis that there is missing data. For many accommodations there are no tags that host their postcode or city. The same is true for missing addresses and phone numbers tags. This is important information if you want to contact these accomodations. The lat and lon coordinates are available so it seems that at least the address tags could be fixed programmatically as you can determine address, city and postcode by lat and lon coordinates.</p>"
   ]
  },
  {
   "cell_type": "markdown",
   "metadata": {},
   "source": [
    "<h2>Missing hotels</h2>\n",
    "<p>I further came to the conclusion that not all hotels in Leiden are available. For example, the Holiday Inn in Leiden is not found. The busstops in front of the hotel are however available. As the Holiday Inn was opened in <a href=\"https://www.leidschdagblad.nl/leiden-en-regio/chinezen-kopen-holiday-inn-leiden\">1968 as the first Holiday Inn on the European mainland</a>, you would expect it to show up. Some hotels that have been opened in the recent years are available (Boutique Hotel d'Oude Morsch) while others are missing (City Resort). A crosscheck with other available sources (like <a href=\"https://www.booking.com/searchresults.html?aid=336408&label=leiden-eQY7Tt_tNuHhM*fOEHaJyQS201212258357%3Apl%3Ata%3Ap135%3Ap2%3Aac%3Aap1t1%3Aneg%3Afi%3Atiaud-285284111246%3Akwd-12082263405%3Alp9032131%3Ali%3Adec%3Adm&sid=47e09a33541d6055c22d59c7fb294706&sb=1&src=city&src_elem=sb&error_url=https%3A%2F%2Fwww.booking.com%2Fcity%2Fnl%2Fleiden.html%3Faid%3D336408%3Blabel%3Dleiden-eQY7Tt_tNuHhM%252AfOEHaJyQS201212258357%253Apl%253Ata%253Ap135%253Ap2%253Aac%253Aap1t1%253Aneg%253Afi%253Atiaud-285284111246%253Akwd-12082263405%253Alp9032131%253Ali%253Adec%253Adm%3Bsid%3D47e09a33541d6055c22d59c7fb294706%3Binac%3D0%26%3B&ssne=Leiden&ssne_untouched=Leiden&city=-2148516&checkin_month=&checkin_monthday=&checkin_year=&checkout_month=&checkout_monthday=&checkout_year=&room1=A%2CA&no_rooms=1&group_adults=2&group_children=0&genius_rate=1\">Booking.com</a> or <a href=\"https://www.kvk.nl/zoeken/handelsregister/#!uitgebreid-zoeken&handelsnaam=hotel&kvknummer=&straat=&postcode=&huisnummer=&plaats=Leiden&hoofdvestiging=true&rechtspersoon=true&nevenvestiging=true&zoekvervallen=0&zoekuitgeschreven=1&start=10&initial=0&searchfield=uitgebreidzoeken\">Chamber of Commerce listings</a>) would make sure that missing entries can be added. In the case of hotels these would not change very often so a check once every year would be sufficient.</p>"
   ]
  },
  {
   "cell_type": "code",
   "execution_count": 24,
   "metadata": {},
   "outputs": [
    {
     "data": {
      "text/html": [
       "<div>\n",
       "<table border=\"1\" class=\"dataframe\">\n",
       "  <thead>\n",
       "    <tr style=\"text-align: right;\">\n",
       "      <th></th>\n",
       "      <th>ID</th>\n",
       "      <th>Name</th>\n",
       "      <th>Type</th>\n",
       "    </tr>\n",
       "  </thead>\n",
       "  <tbody>\n",
       "    <tr>\n",
       "      <th>0</th>\n",
       "      <td>1699280503</td>\n",
       "      <td>Holiday Inn</td>\n",
       "      <td>bus_stop</td>\n",
       "    </tr>\n",
       "    <tr>\n",
       "      <th>1</th>\n",
       "      <td>1699280545</td>\n",
       "      <td>Holiday Inn</td>\n",
       "      <td>bus_stop</td>\n",
       "    </tr>\n",
       "  </tbody>\n",
       "</table>\n",
       "</div>"
      ],
      "text/plain": [
       "           ID         Name      Type\n",
       "0  1699280503  Holiday Inn  bus_stop\n",
       "1  1699280545  Holiday Inn  bus_stop"
      ]
     },
     "execution_count": 24,
     "metadata": {},
     "output_type": "execute_result"
    }
   ],
   "source": [
    "# searching for the Holiday Inn\n",
    "query1 = '''\n",
    "SELECT\n",
    "  names.id, hotel, nodes_tags.value\n",
    "FROM\n",
    "  nodes_tags\n",
    "INNER JOIN\n",
    "  (SELECT\n",
    "     id, value as hotel\n",
    "   FROM\n",
    "     nodes_tags\n",
    "   WHERE \n",
    "     id IN (SELECT id FROM nodes_tags WHERE key='name' AND value LIKE \"%Holiday Inn%\") AND key='name') as names\n",
    "ON\n",
    "  names.id = nodes_tags.id\n",
    "WHERE\n",
    "  key='highway'\n",
    "'''\n",
    "\n",
    "c.execute(query1)\n",
    "results=c.fetchall()\n",
    "df = pd.DataFrame(results)\n",
    "df = df.rename(columns={0:\"ID\",1: \"Name\",2:\"Type\"})\n",
    "df"
   ]
  },
  {
   "cell_type": "code",
   "execution_count": 25,
   "metadata": {
    "collapsed": true
   },
   "outputs": [],
   "source": [
    "# find names of hotels in Leiden\n",
    "query = '''\n",
    "SELECT\n",
    "  value\n",
    "FROM\n",
    "  nodes_tags\n",
    "WHERE id IN\n",
    "(SELECT \n",
    "     hotels.id \n",
    "FROM \n",
    "     nodes \n",
    "INNER JOIN \n",
    "     (SELECT id, value FROM nodes_tags WHERE key = \"tourism\" AND value = \"hotel\" ) as hotels \n",
    "ON \n",
    "    nodes.id = hotels.id\n",
    "WHERE \n",
    "  (lat BETWEEN 52.118 AND 52.185) AND (lon BETWEEN 4.438 AND 4.524)) \n",
    "AND key='name' \n",
    "  '''\n",
    "\n",
    "c.execute(query)\n",
    "results = c.fetchall()\n",
    "df = pd.DataFrame(results)\n",
    "#df"
   ]
  },
  {
   "cell_type": "markdown",
   "metadata": {},
   "source": [
    "<h1>Conclusion</h1>\n",
    "<p>Compared to the US dataset we wrangled in the case study, it appears to me that the data for Leiden and its surroundings is much cleaner and more consistent. This is probably partly due by the fact that a handful of users provided most of the information and used already existing databases for which import format guidelines were in place. That said obvious places (like fe Holiday Inn) are missing and data is incomplete (missing city, addresses, postcode, phone tags).</p>  "
   ]
  },
  {
   "cell_type": "markdown",
   "metadata": {},
   "source": [
    "<h1>Sources</h1>\n",
    "<p>Next to the links referred to in the text, I have also made use of:</p>\n",
    "<ul>\n",
    "<li>Wiki OpenStreetMap, different sections</li>\n",
    "<li>Wikipedia, pages on Leiden and singels (unfortunately most pages were only available in Dutch)</li>\n",
    "<li>Stackoverflow</li>\n",
    "<li>Udacity forum and example project</li>\n",
    "<li>Python, matplotlib and seaborn sites</li>\n",
    "</ul>"
   ]
  }
 ],
 "metadata": {
  "kernelspec": {
   "display_name": "Python [conda env:python2]",
   "language": "python",
   "name": "conda-env-python2-py"
  },
  "language_info": {
   "codemirror_mode": {
    "name": "ipython",
    "version": 2
   },
   "file_extension": ".py",
   "mimetype": "text/x-python",
   "name": "python",
   "nbconvert_exporter": "python",
   "pygments_lexer": "ipython2",
   "version": "2.7.13"
  }
 },
 "nbformat": 4,
 "nbformat_minor": 2
}
