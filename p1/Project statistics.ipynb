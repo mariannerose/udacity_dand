{
 "cells": [
  {
   "cell_type": "code",
   "execution_count": 26,
   "metadata": {
    "collapsed": true,
    "scrolled": false
   },
   "outputs": [],
   "source": [
    "import unicodecsv\n",
    "\n",
    "def read_csv(filename):\n",
    "    with open(filename, 'rb') as f:\n",
    "        stroopdata = unicodecsv.DictReader(f)\n",
    "        return list(stroopdata)"
   ]
  },
  {
   "cell_type": "code",
   "execution_count": 29,
   "metadata": {
    "scrolled": true
   },
   "outputs": [
    {
     "name": "stdout",
     "output_type": "stream",
     "text": [
      "[{u'Congruent': u'12.079', u'Incongruent': u'19.278'}, {u'Congruent': u'16.791', u'Incongruent': u'18.741'}, {u'Congruent': u'9.564', u'Incongruent': u'21.214'}, {u'Congruent': u'8.630', u'Incongruent': u'15.687'}, {u'Congruent': u'14.669', u'Incongruent': u'22.803'}, {u'Congruent': u'12.238', u'Incongruent': u'20.878'}, {u'Congruent': u'14.692', u'Incongruent': u'24.572'}, {u'Congruent': u'8.987', u'Incongruent': u'17.394'}, {u'Congruent': u'9.401', u'Incongruent': u'20.762'}, {u'Congruent': u'14.480', u'Incongruent': u'26.282'}, {u'Congruent': u'22.328', u'Incongruent': u'24.524'}, {u'Congruent': u'15.298', u'Incongruent': u'18.644'}, {u'Congruent': u'15.073', u'Incongruent': u'17.510'}, {u'Congruent': u'16.929', u'Incongruent': u'20.330'}, {u'Congruent': u'18.200', u'Incongruent': u'35.255'}, {u'Congruent': u'12.130', u'Incongruent': u'22.158'}, {u'Congruent': u'18.495', u'Incongruent': u'25.139'}, {u'Congruent': u'10.639', u'Incongruent': u'20.429'}, {u'Congruent': u'11.344', u'Incongruent': u'17.425'}, {u'Congruent': u'12.369', u'Incongruent': u'34.288'}, {u'Congruent': u'12.944', u'Incongruent': u'23.894'}, {u'Congruent': u'14.233', u'Incongruent': u'17.960'}, {u'Congruent': u'19.710', u'Incongruent': u'22.058'}, {u'Congruent': u'16.004', u'Incongruent': u'21.157'}]\n"
     ]
    }
   ],
   "source": [
    "var = read_csv('stroopdata.csv')\n",
    "print var"
   ]
  },
  {
   "cell_type": "code",
   "execution_count": 127,
   "metadata": {
    "collapsed": true
   },
   "outputs": [],
   "source": [
    "import csv\n",
    "\n",
    "congruent_list = []\n",
    "incongruent_list = []\n",
    "def read_csv_simple(filename):\n",
    "    with open(filename, 'rb') as f:\n",
    "        stroop = csv.reader(f)\n",
    "        for row in stroop:\n",
    "            congruent_list.append(row[0])\n",
    "            incongruent_list.append(row[1])\n",
    "\n",
    "    print congruent_list \n",
    "    print incongruent_list"
   ]
  },
  {
   "cell_type": "code",
   "execution_count": 133,
   "metadata": {
    "scrolled": true
   },
   "outputs": [
    {
     "name": "stdout",
     "output_type": "stream",
     "text": [
      "[12.079, 16.791, 9.564, 8.63, 14.669, 12.238, 14.692, 8.987, 9.401, 14.48, 22.328, 15.298, 15.073, 16.929, 18.2, 12.13, 18.495, 10.639, 11.344, 12.369, 12.944, 14.233, 19.71, 16.004]\n",
      "[19.278, 18.741, 21.214, 15.687, 22.803, 20.878, 24.572, 17.394, 20.762, 26.282, 24.524, 18.644, 17.51, 20.33, 35.255, 22.158, 25.139, 20.429, 17.425, 34.288, 23.894, 17.96, 22.058, 21.157]\n",
      "12.079\n"
     ]
    }
   ],
   "source": [
    "def integers(named_list):\n",
    "    integer_list = []\n",
    "    for i in range(1,len(named_list)):\n",
    "        integer_list.append(float(named_list[i]))\n",
    "    return integer_list\n",
    "\n",
    "congruent = integers(congruent_list)\n",
    "incongruent = integers(incongruent_list)\n",
    "\n",
    "print congruent\n",
    "print incongruent\n",
    "\n",
    "print congruent[0]\n",
    "\n",
    "\n",
    "\n"
   ]
  },
  {
   "cell_type": "code",
   "execution_count": 140,
   "metadata": {},
   "outputs": [],
   "source": [
    "def get_average(named_list):\n",
    "    sum = 0\n",
    "    for i in range(len(named_list)):\n",
    "        sum += named_list[i]\n",
    "    average = sum / len(named_list)\n",
    "    return average    "
   ]
  },
  {
   "cell_type": "code",
   "execution_count": 142,
   "metadata": {},
   "outputs": [
    {
     "name": "stdout",
     "output_type": "stream",
     "text": [
      "14.051125\n",
      "22.0159166667\n"
     ]
    }
   ],
   "source": [
    "sums_con = get_average(congruent)\n",
    "sums_incon = get_average(incongruent)\n",
    "\n",
    "print sums_con\n",
    "print sums_incon"
   ]
  },
  {
   "cell_type": "code",
   "execution_count": 177,
   "metadata": {},
   "outputs": [
    {
     "name": "stdout",
     "output_type": "stream",
     "text": [
      "Populating the interactive namespace from numpy and matplotlib\n",
      "\n"
     ]
    }
   ],
   "source": [
    "%pylab inline\n",
    "import numpy as np\n",
    "import matplotlib.pyplot as plt\n",
    "import seaborn as sns\n",
    "from scipy import stats\n",
    "\n",
    "def describe_data(data):\n",
    "    print 'Mean:', round(np.mean(data),2)\n",
    "    print 'Standard deviation:', round(np.std(data,ddof=1),2)\n",
    "    print 'Median:', round(np.nanmedian(data),2)"
   ]
  },
  {
   "cell_type": "code",
   "execution_count": 178,
   "metadata": {
    "scrolled": true
   },
   "outputs": [
    {
     "name": "stdout",
     "output_type": "stream",
     "text": [
      "Mean: 14.05\n",
      "Standard deviation: 3.56\n",
      "Median: 14.36\n",
      "None\n"
     ]
    }
   ],
   "source": [
    "print describe_data(congruent)"
   ]
  },
  {
   "cell_type": "code",
   "execution_count": 179,
   "metadata": {},
   "outputs": [
    {
     "name": "stdout",
     "output_type": "stream",
     "text": [
      "Mean: 22.02\n",
      "Standard deviation: 4.8\n",
      "Median: 21.02\n",
      "None\n"
     ]
    }
   ],
   "source": [
    "print describe_data(incongruent)"
   ]
  },
  {
   "cell_type": "code",
   "execution_count": 156,
   "metadata": {},
   "outputs": [],
   "source": [
    "def get_difference(data1, data2):\n",
    "    diff = []\n",
    "    for i in range(len(data2)):\n",
    "        difference = data2[i] - data1[i]\n",
    "        diff.append(difference) \n",
    "    return diff"
   ]
  },
  {
   "cell_type": "code",
   "execution_count": 157,
   "metadata": {},
   "outputs": [
    {
     "name": "stdout",
     "output_type": "stream",
     "text": [
      "[7.198999999999998, 1.9499999999999993, 11.649999999999999, 7.056999999999999, 8.134, 8.64, 9.879999999999999, 8.406999999999998, 11.361, 11.802, 2.1960000000000015, 3.3459999999999983, 2.437000000000001, 3.401, 17.055000000000003, 10.028, 6.643999999999998, 9.79, 6.081000000000001, 21.918999999999997, 10.949999999999998, 3.7270000000000003, 2.347999999999999, 5.152999999999999]\n"
     ]
    }
   ],
   "source": [
    "diff_list = get_difference(congruent, incongruent)\n",
    "print diff_list"
   ]
  },
  {
   "cell_type": "code",
   "execution_count": 180,
   "metadata": {},
   "outputs": [
    {
     "name": "stdout",
     "output_type": "stream",
     "text": [
      "Mean: 7.96\n",
      "Standard deviation: 4.86\n",
      "Median: 7.67\n",
      "None\n"
     ]
    }
   ],
   "source": [
    "print describe_data(diff_list)"
   ]
  },
  {
   "cell_type": "code",
   "execution_count": 188,
   "metadata": {},
   "outputs": [
    {
     "data": {
      "text/plain": [
       "(array([ 8.,  9.,  5.,  1.,  1.]),\n",
       " array([  1.95  ,   5.9438,   9.9376,  13.9314,  17.9252,  21.919 ]),\n",
       " <a list of 5 Patch objects>)"
      ]
     },
     "execution_count": 188,
     "metadata": {},
     "output_type": "execute_result"
    },
    {
     "data": {
      "image/png": "[encoded data removed]",
      "text/plain": [
       "<matplotlib.figure.Figure at 0x112562e50>"
      ]
     },
     "metadata": {},
     "output_type": "display_data"
    }
   ],
   "source": [
    "rwidth = 5\n",
    "plt.hist(diff_list, rwidth)\n"
   ]
  },
  {
   "cell_type": "code",
   "execution_count": 196,
   "metadata": {
    "collapsed": true
   },
   "outputs": [],
   "source": [
    "def describe_more_data(data):\n",
    "    print \"Standard error:\", round((np.std(data,ddof=1)) / (len(data)**0.5),2)\n"
   ]
  },
  {
   "cell_type": "code",
   "execution_count": 197,
   "metadata": {},
   "outputs": [
    {
     "name": "stdout",
     "output_type": "stream",
     "text": [
      "Standard error: 0.99\n"
     ]
    }
   ],
   "source": [
    "describe_more_data(diff_list)"
   ]
  },
  {
   "cell_type": "code",
   "execution_count": 235,
   "metadata": {},
   "outputs": [],
   "source": [
    "def t_test(data): \n",
    "    t = mean / se\n",
    "    print \"T-test value:\", round(t,2)\n",
    "    "
   ]
  },
  {
   "cell_type": "code",
   "execution_count": 236,
   "metadata": {},
   "outputs": [
    {
     "name": "stdout",
     "output_type": "stream",
     "text": [
      "T-test value: 8.02\n"
     ]
    }
   ],
   "source": [
    "data = diff_list\n",
    "mean = np.mean(data)\n",
    "se = (np.std(data,ddof=1)) / (len(data)**0.5)\n",
    "t_test(data)"
   ]
  },
  {
   "cell_type": "code",
   "execution_count": 242,
   "metadata": {
    "scrolled": true
   },
   "outputs": [
    {
     "name": "stdout",
     "output_type": "stream",
     "text": [
      "T-critical value: 1.714\n"
     ]
    }
   ],
   "source": [
    "print \"T-critical value:\", round(stats.t.ppf(1-0.05, 23),3)"
   ]
  },
  {
   "cell_type": "code",
   "execution_count": 244,
   "metadata": {},
   "outputs": [
    {
     "data": {
      "text/plain": [
       "2.069"
      ]
     },
     "execution_count": 244,
     "metadata": {},
     "output_type": "execute_result"
    }
   ],
   "source": [
    "round(stats.t.ppf(1-0.025, 23),3)"
   ]
  },
  {
   "cell_type": "code",
   "execution_count": 257,
   "metadata": {
    "collapsed": true
   },
   "outputs": [],
   "source": [
    "def confidence_interval(data,tail,num,df):\n",
    "    mean = np.mean(data)\n",
    "    se = (np.std(data,ddof=1)) / (len(data)**0.5)\n",
    "    margin_of_error = round(stats.t.ppf(1-(tail/2), df),3) * se\n",
    "    confidence_interval = (mean - margin_of_error,\n",
    "                       mean + margin_of_error) \n",
    "    print \"CI: \", confidence_interval\n",
    "\n"
   ]
  },
  {
   "cell_type": "code",
   "execution_count": 258,
   "metadata": {},
   "outputs": [
    {
     "name": "stdout",
     "output_type": "stream",
     "text": [
      "CI:  (5.91021542131028, 10.019367912023052)\n"
     ]
    }
   ],
   "source": [
    "confidence_interval(diff_list, 0.05,2, 23)"
   ]
  },
  {
   "cell_type": "code",
   "execution_count": 278,
   "metadata": {},
   "outputs": [],
   "source": [
    "data_to_plot = [congruent, incongruent, diff_list]"
   ]
  },
  {
   "cell_type": "code",
   "execution_count": 281,
   "metadata": {},
   "outputs": [
    {
     "data": {
      "image/png": "[encoded data removed]",
      "text/plain": [
       "<matplotlib.figure.Figure at 0x10f4e5910>"
      ]
     },
     "metadata": {},
     "output_type": "display_data"
    }
   ],
   "source": [
    "# Create a figure instance\n",
    "fig = plt.figure(1, figsize=(9, 6))\n",
    "\n",
    "# Create an axes instance\n",
    "ax = fig.add_subplot(111)\n",
    "\n",
    "# Create the boxplot\n",
    "bp = ax.boxplot(data_to_plot)\n",
    "\n",
    "## Custom x-axis labels\n",
    "ax.set_xticklabels(['Congruent', 'Incongruent','Difference'])\n",
    "\n",
    "# Save the figure\n",
    "fig.savefig('fig1.png', bbox_inches='tight')"
   ]
  },
  {
   "cell_type": "code",
   "execution_count": null,
   "metadata": {
    "collapsed": true
   },
   "outputs": [],
   "source": []
  }
 ],
 "metadata": {
  "anaconda-cloud": {},
  "kernelspec": {
   "display_name": "Python [conda env:python2]",
   "language": "python",
   "name": "conda-env-python2-py"
  },
  "language_info": {
   "codemirror_mode": {
    "name": "ipython",
    "version": 2
   },
   "file_extension": ".py",
   "mimetype": "text/x-python",
   "name": "python",
   "nbconvert_exporter": "python",
   "pygments_lexer": "ipython2",
   "version": "2.7.13"
  }
 },
 "nbformat": 4,
 "nbformat_minor": 2
}
